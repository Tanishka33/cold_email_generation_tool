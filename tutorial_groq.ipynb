{
 "cells": [
  {
   "cell_type": "code",
   "execution_count": 3,
   "id": "2177f8c6-8fd4-496b-8ff3-59d16cbe8324",
   "metadata": {},
   "outputs": [
    {
     "name": "stdout",
     "output_type": "stream",
     "text": [
      "**Machine Learning: A Definition**\n",
      "\n",
      "Machine learning is a subset of artificial intelligence (AI) that involves the use of algorithms and statistical models to enable machines to learn from data, make decisions, and improve their performance over time.\n",
      "\n",
      "**Key Characteristics:**\n",
      "\n",
      "1. **Data-driven**: Machine learning relies on large amounts of data to train and improve models.\n",
      "2. **Self-improvement**: Models learn from experience and adapt to new data, allowing them to improve their performance over time.\n",
      "3. **Pattern recognition**: Machine learning algorithms identify patterns in data, enabling them to make predictions, classify objects, or make decisions.\n",
      "\n",
      "**Types of Machine Learning:**\n",
      "\n",
      "1. **Supervised Learning**: Models learn from labeled data to make predictions or classify objects.\n",
      "2. **Unsupervised Learning**: Models identify patterns in unlabeled data to group or cluster similar objects.\n",
      "3. **Reinforcement Learning**: Models learn through trial and error, receiving rewards or penalties for their actions.\n",
      "\n",
      "**Applications:**\n",
      "\n",
      "1. **Image and Speech Recognition**: Machine learning is used in applications like facial recognition, speech-to-text, and image classification.\n",
      "2. **Natural Language Processing**: Machine learning is used in chatbots, language translation, and text summarization.\n",
      "3. **Predictive Analytics**: Machine learning is used in forecasting, recommendation systems, and anomaly detection.\n",
      "\n",
      "**Real-World Examples:**\n",
      "\n",
      "1. **Virtual Assistants**: Siri, Alexa, and Google Assistant use machine learning to understand voice commands and respond accordingly.\n",
      "2. **Recommendation Systems**: Netflix and Amazon use machine learning to suggest movies and products based on user behavior.\n",
      "3. **Self-Driving Cars**: Machine learning is used to enable autonomous vehicles to navigate roads and make decisions in real-time.\n",
      "\n",
      "In summary, machine learning is a powerful technology that enables machines to learn from data, make decisions, and improve their performance over time, with applications in various industries and domains.\n"
     ]
    }
   ],
   "source": [
    "from langchain_groq import ChatGroq\n",
    "\n",
    "llm = ChatGroq(\n",
    "    model_name=\"llama-3.3-70b-versatile\",\n",
    "    temperature=0,\n",
    "    groq_api_key='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'\n",
    ")\n",
    "response = llm.invoke(\"What is machine learning ?\")\n",
    "print(response.content)"
   ]
  },
  {
   "cell_type": "code",
   "execution_count": null,
   "id": "704db166-6b77-4049-bb38-7294d9c21202",
   "metadata": {},
   "outputs": [],
   "source": []
  }
 ],
 "metadata": {
  "kernelspec": {
   "display_name": "Python 3 (ipykernel)",
   "language": "python",
   "name": "python3"
  },
  "language_info": {
   "codemirror_mode": {
    "name": "ipython",
    "version": 3
   },
   "file_extension": ".py",
   "mimetype": "text/x-python",
   "name": "python",
   "nbconvert_exporter": "python",
   "pygments_lexer": "ipython3",
   "version": "3.13.3"
  }
 },
 "nbformat": 4,
 "nbformat_minor": 5
}
