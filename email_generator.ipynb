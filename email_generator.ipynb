{
 "cells": [
  {
   "cell_type": "code",
   "execution_count": 1,
   "id": "80e1f6bb-3d0d-42bb-8a42-2f2cf2062434",
   "metadata": {},
   "outputs": [],
   "source": [
    "from langchain_groq import ChatGroq"
   ]
  },
  {
   "cell_type": "code",
   "execution_count": 2,
   "id": "40b3659b-3690-4f2d-8042-c8c9f7c98a0a",
   "metadata": {},
   "outputs": [
    {
     "name": "stdout",
     "output_type": "stream",
     "text": [
      "The current Prime Minister of India is Narendra Modi. He has been serving as the Prime Minister of India since May 26, 2014.\n"
     ]
    }
   ],
   "source": [
    "llm=ChatGroq(\n",
    "    temperature=0,\n",
    "    groq_api_key='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',\n",
    "    model_name=\"llama-3.3-70b-versatile\"   \n",
    ")\n",
    "response=llm.invoke(\"Who is prime minister of India ?\")\n",
    "print(response.content)"
   ]
  },
  {
   "cell_type": "code",
   "execution_count": 3,
   "id": "4a5bef07-e08f-42a3-b8d9-c240203bdff5",
   "metadata": {},
   "outputs": [],
   "source": [
    "# %pip install langchain-community beautifulsoup4"
   ]
  },
  {
   "cell_type": "code",
   "execution_count": 4,
   "id": "bfacd535-f574-4a77-bbb6-ae7f4badb062",
   "metadata": {},
   "outputs": [
    {
     "name": "stderr",
     "output_type": "stream",
     "text": [
      "USER_AGENT environment variable not set, consider setting it to identify your requests.\n"
     ]
    },
    {
     "name": "stdout",
     "output_type": "stream",
     "text": [
      "Software Dev Engineer II, Cross Border Seller Programs - Job ID: 3063354 | Amazon.jobs\n",
      "Skip to main contentHomeTeamsLocationsJob categoriesMy careerMy applicationsMy profileAccount securitySettingsSign outResourcesDisability accommodationsBenefitsInclusive experiencesInterview tipsLeadership principlesWorking at AmazonFAQ×Software Dev Engineer II, Cross Border Seller ProgramsJob ID: 3063354 | ADCI - KarnatakaApply nowDESCRIPTIONStay local, shop global! Amazon Cross Border (XB) team allows customers to easily discover a wide selection of international products available from Amazon’s websites around the world, offering simplified customs, faster delivery, local language and payment support, and a world-class customer service. XB team has presence in multiple countries and will continue to stay at the forefront of Amazon’s global expansion strategy. XB Seller Experience is a key driver for the growth for this business and we are looking for a dynamic, organized and self-starting SDEs to take on a critical role in building a new unified Seller Experience for the first time. XB Seller Programs Team is seeking an experienced Software Development Engineer interested in disrupting the way products are made available to customer, sold, and distributed on a global scale. The right candidate will have hands-on involvement in building new tools, services, and distribution structures across Amazon’s growing footprint. The products and capabilities enabled by this role will deliver unprecedented selection and prices across Amazon’s 100MM+ customers, while innovating beyond established cross border norms. The right candidate will thrive in a fast-paced, ambiguous environment with interactions across a wide variety of e-commerce topics, and will demonstrate competence in multiple fields and skill sets. ",
      "At Amazon, we are working to be the most customer-centric company on earth and enable products that meet our customers needs and demands while providing a safe experience throughout. To reach there, we need exceptionally talented, bright, dynamic, and dedicated individuals. Are you excited to help Amazon grow product selection across the globe and improve Seller Experience? ",
      "Mentorship & Career Growth: ",
      "Our team is dedicated to supporting new team members. Our team has a broad mix of experience levels and Amazon tenures, and we’re building an environment that celebrates knowledge sharing and mentorship. Our senior engineers truly enjoy mentoring more junior engineers and engineers from non-traditional backgrounds through one-on-one mentoring and thorough, but kind, code reviews. Key job responsibilities• Solve complex problems through data, rapidly.• Design and develop state of the art software systems that address these complex and ambiguous problems.• Own the inputs and the business outcome through cultivating a culture of relentless auditing and metric monitoring, automatically where possible.This position which is ideal for candidates who are looking to deal with scaling challenges at Amazon and ready to build mission critical system software applications and tools. It is also an opportunity for freelance candidates to become domain experts and have an enormous opportunity to make a large impact on the design, architecture and development of consumer products. A day in the lifeA day in the life ",
      "As a Software Development Engineer on the team, you will take ownership over the software design, documentation, development, engineering approach, and delivery. In this role you will collaborate with leaders, work backward from customers, identify problems, propose innovative solutions, relentlessly raise standards, and have a huge impact by disrupting the way products are bought, sold, and distributed on Amazon on a global scale. The right candidate will have hands-on involvement in building new tools, services, and distribution structures across Amazon’s growing footprint. The products and capabilities enabled by this role will deliver unprecedented selection and improved Seller Experience for our global customers. The right candidate will thrive in a fast-paced, ambiguous environment with interactions across a wide variety of e-commerce topics, and will demonstrate competence in multiple fields and skill sets.BASIC QUALIFICATIONS- 3+ years of non-internship professional software development experience- 2+ years of non-internship design or architecture (design patterns, reliability and scaling) of new and existing systems experience- 3+ years of Video Games Industry (supporting title Development, Release, or Live Ops) experience- Experience programming with at least one software programming languagePREFERRED QUALIFICATIONS- 3+ years of full software development life cycle, including coding standards, code reviews, source control management, build processes, testing, and operations experience- Bachelor's degree in computer science or equivalentOur inclusive culture empowers Amazonians to deliver the best results for our customers. If you have a disability and need a workplace accommodation or adjustment during the application and hiring process, including support for the interview or onboarding process, please visit https://amazon.jobs/content/en/how-we-hire/accommodations for more information. If the country/region you’re applying in isn’t listed, please contact your Recruiting Partner.Job detailsIND, KA, BengaluruSoftware DevelopmentShare this jobJOIN US ONFind CareersJob CategoriesTeamsLocationsUS and EU Military recruitingWarehouse and Hourly JobsWorking At AmazonCultureBenefitsAmazon NewsletterInclusive experiencesOur leadership principlesHelpFAQInterview tipsReview application statusDisability accommodationsLegal disclosures and noticesAmazon is an equal opportunity employer and does not discriminate on the basis of protected veteran status, disability, or other legally protected status.Privacy and DataImpressum© 1996-2025, Amazon.com, Inc. or its affiliates\n"
     ]
    }
   ],
   "source": [
    "from langchain_community.document_loaders import WebBaseLoader\n",
    "\n",
    "loader = WebBaseLoader(\"https://www.amazon.jobs/en/jobs/3063354/software-dev-engineer-ii-cross-border-seller-programs\")\n",
    "page_data=loader.load().pop().page_content\n",
    "print(page_data)"
   ]
  },
  {
   "cell_type": "code",
   "execution_count": 5,
   "id": "1e8be6d2-3328-403c-ac5e-39f54aea5201",
   "metadata": {},
   "outputs": [
    {
     "data": {
      "text/plain": [
       "str"
      ]
     },
     "execution_count": 5,
     "metadata": {},
     "output_type": "execute_result"
    }
   ],
   "source": [
    "from langchain_core.prompts import PromptTemplate\n",
    "\n",
    "prompt_extract= PromptTemplate.from_template(\n",
    "    \"\"\"\n",
    "    ### SCRAPED TEXT FROM WEBSITE:\n",
    "    {page_data}\n",
    "    ### INSTRUCTION:\n",
    "    The scraped text is from the career's page of website.\n",
    "    Your job is to extract the job postingd and return them in JSON format containing the\n",
    "    following keys: 'role'. 'experience', 'skills' and 'description'.\n",
    "    Only return the valid JSON.\n",
    "    ## VALID JSON (NO PREAMBLE):\n",
    "    \"\"\"\n",
    "    \n",
    ")\n",
    "chain_extract = prompt_extract | llm\n",
    "res = chain_extract.invoke(input={'page_data':page_data})\n",
    "type(res.content)"
   ]
  },
  {
   "cell_type": "code",
   "execution_count": 6,
   "id": "29ffbddb-02fc-4eb1-9791-dc80bd03bf06",
   "metadata": {},
   "outputs": [
    {
     "data": {
      "text/plain": [
       "{'role': 'Software Dev Engineer II, Cross Border Seller Programs',\n",
       " 'experience': '3+ years of non-internship professional software development experience',\n",
       " 'skills': ['Programming with at least one software programming language',\n",
       "  'Design or architecture (design patterns, reliability and scaling) of new and existing systems',\n",
       "  'Full software development life cycle, including coding standards, code reviews, source control management, build processes, testing, and operations'],\n",
       " 'description': 'The XB Seller Programs Team is seeking an experienced Software Development Engineer interested in disrupting the way products are made available to customers, sold, and distributed on a global scale. The right candidate will have hands-on involvement in building new tools, services, and distribution structures across Amazon’s growing footprint.'}"
      ]
     },
     "execution_count": 6,
     "metadata": {},
     "output_type": "execute_result"
    }
   ],
   "source": [
    "from langchain_core.output_parsers import JsonOutputParser\n",
    "\n",
    "json_parser = JsonOutputParser()\n",
    "json_res = json_parser.parse(res.content)\n",
    "json_res"
   ]
  },
  {
   "cell_type": "code",
   "execution_count": 7,
   "id": "b0c46469-8888-4706-bb82-40209a2c3a29",
   "metadata": {},
   "outputs": [
    {
     "data": {
      "text/plain": [
       "dict"
      ]
     },
     "execution_count": 7,
     "metadata": {},
     "output_type": "execute_result"
    }
   ],
   "source": [
    "type(json_res)"
   ]
  },
  {
   "cell_type": "code",
   "execution_count": 8,
   "id": "396470cc-495c-4743-a804-3d4d14129aa9",
   "metadata": {},
   "outputs": [],
   "source": [
    "# !pip install pandas"
   ]
  },
  {
   "cell_type": "code",
   "execution_count": 9,
   "id": "30055772-6ffa-43bb-b1e6-63ef59474f72",
   "metadata": {},
   "outputs": [
    {
     "data": {
      "text/html": [
       "<div>\n",
       "<style scoped>\n",
       "    .dataframe tbody tr th:only-of-type {\n",
       "        vertical-align: middle;\n",
       "    }\n",
       "\n",
       "    .dataframe tbody tr th {\n",
       "        vertical-align: top;\n",
       "    }\n",
       "\n",
       "    .dataframe thead th {\n",
       "        text-align: right;\n",
       "    }\n",
       "</style>\n",
       "<table border=\"1\" class=\"dataframe\">\n",
       "  <thead>\n",
       "    <tr style=\"text-align: right;\">\n",
       "      <th></th>\n",
       "      <th>Techstack</th>\n",
       "      <th>Links</th>\n",
       "    </tr>\n",
       "  </thead>\n",
       "  <tbody>\n",
       "    <tr>\n",
       "      <th>0</th>\n",
       "      <td>React, Node.js, MongoDB</td>\n",
       "      <td>https://example.com/react-portfolio</td>\n",
       "    </tr>\n",
       "    <tr>\n",
       "      <th>1</th>\n",
       "      <td>Angular,.NET, SQL Server</td>\n",
       "      <td>https://example.com/angular-portfolio</td>\n",
       "    </tr>\n",
       "    <tr>\n",
       "      <th>2</th>\n",
       "      <td>Vue.js, Ruby on Rails, PostgreSQL</td>\n",
       "      <td>https://example.com/vue-portfolio</td>\n",
       "    </tr>\n",
       "    <tr>\n",
       "      <th>3</th>\n",
       "      <td>Python, Django, MySQL</td>\n",
       "      <td>https://example.com/python-portfolio</td>\n",
       "    </tr>\n",
       "    <tr>\n",
       "      <th>4</th>\n",
       "      <td>Java, Spring Boot, Oracle</td>\n",
       "      <td>https://example.com/java-portfolio</td>\n",
       "    </tr>\n",
       "    <tr>\n",
       "      <th>5</th>\n",
       "      <td>Flutter, Firebase, GraphQL</td>\n",
       "      <td>https://example.com/flutter-portfolio</td>\n",
       "    </tr>\n",
       "    <tr>\n",
       "      <th>6</th>\n",
       "      <td>WordPress, PHP, MySQL</td>\n",
       "      <td>https://example.com/wordpress-portfolio</td>\n",
       "    </tr>\n",
       "    <tr>\n",
       "      <th>7</th>\n",
       "      <td>Magento, PHP, MySQL</td>\n",
       "      <td>https://example.com/magento-portfolio</td>\n",
       "    </tr>\n",
       "    <tr>\n",
       "      <th>8</th>\n",
       "      <td>React Native, Node.js, MongoDB</td>\n",
       "      <td>https://example.com/react-native-portfolio</td>\n",
       "    </tr>\n",
       "    <tr>\n",
       "      <th>9</th>\n",
       "      <td>iOS, Swift, Core Data</td>\n",
       "      <td>https://example.com/ios-portfolio</td>\n",
       "    </tr>\n",
       "    <tr>\n",
       "      <th>10</th>\n",
       "      <td>Android, Java, Room Persistence</td>\n",
       "      <td>https://example.com/android-portfolio</td>\n",
       "    </tr>\n",
       "    <tr>\n",
       "      <th>11</th>\n",
       "      <td>Kotlin, Android, Firebase</td>\n",
       "      <td>https://example.com/kotlin-android-portfolio</td>\n",
       "    </tr>\n",
       "    <tr>\n",
       "      <th>12</th>\n",
       "      <td>Android TV, Kotlin, Android NDK</td>\n",
       "      <td>https://example.com/android-tv-portfolio</td>\n",
       "    </tr>\n",
       "    <tr>\n",
       "      <th>13</th>\n",
       "      <td>iOS, Swift, ARKit</td>\n",
       "      <td>https://example.com/ios-ar-portfolio</td>\n",
       "    </tr>\n",
       "    <tr>\n",
       "      <th>14</th>\n",
       "      <td>Cross-platform, Xamarin, Azure</td>\n",
       "      <td>https://example.com/xamarin-portfolio</td>\n",
       "    </tr>\n",
       "    <tr>\n",
       "      <th>15</th>\n",
       "      <td>Backend, Kotlin, Spring Boot</td>\n",
       "      <td>https://example.com/kotlin-backend-portfolio</td>\n",
       "    </tr>\n",
       "    <tr>\n",
       "      <th>16</th>\n",
       "      <td>Frontend, TypeScript, Angular</td>\n",
       "      <td>https://example.com/typescript-frontend-portfolio</td>\n",
       "    </tr>\n",
       "    <tr>\n",
       "      <th>17</th>\n",
       "      <td>Full-stack, JavaScript, Express.js</td>\n",
       "      <td>https://example.com/full-stack-js-portfolio</td>\n",
       "    </tr>\n",
       "    <tr>\n",
       "      <th>18</th>\n",
       "      <td>Machine Learning, Python, TensorFlow</td>\n",
       "      <td>https://example.com/ml-python-portfolio</td>\n",
       "    </tr>\n",
       "    <tr>\n",
       "      <th>19</th>\n",
       "      <td>DevOps, Jenkins, Docker</td>\n",
       "      <td>https://example.com/devops-portfolio</td>\n",
       "    </tr>\n",
       "  </tbody>\n",
       "</table>\n",
       "</div>"
      ],
      "text/plain": [
       "                               Techstack  \\\n",
       "0                React, Node.js, MongoDB   \n",
       "1               Angular,.NET, SQL Server   \n",
       "2      Vue.js, Ruby on Rails, PostgreSQL   \n",
       "3                  Python, Django, MySQL   \n",
       "4              Java, Spring Boot, Oracle   \n",
       "5             Flutter, Firebase, GraphQL   \n",
       "6                  WordPress, PHP, MySQL   \n",
       "7                    Magento, PHP, MySQL   \n",
       "8         React Native, Node.js, MongoDB   \n",
       "9                  iOS, Swift, Core Data   \n",
       "10       Android, Java, Room Persistence   \n",
       "11             Kotlin, Android, Firebase   \n",
       "12       Android TV, Kotlin, Android NDK   \n",
       "13                     iOS, Swift, ARKit   \n",
       "14        Cross-platform, Xamarin, Azure   \n",
       "15          Backend, Kotlin, Spring Boot   \n",
       "16         Frontend, TypeScript, Angular   \n",
       "17    Full-stack, JavaScript, Express.js   \n",
       "18  Machine Learning, Python, TensorFlow   \n",
       "19               DevOps, Jenkins, Docker   \n",
       "\n",
       "                                                Links  \n",
       "0                 https://example.com/react-portfolio  \n",
       "1               https://example.com/angular-portfolio  \n",
       "2                   https://example.com/vue-portfolio  \n",
       "3                https://example.com/python-portfolio  \n",
       "4                  https://example.com/java-portfolio  \n",
       "5               https://example.com/flutter-portfolio  \n",
       "6             https://example.com/wordpress-portfolio  \n",
       "7               https://example.com/magento-portfolio  \n",
       "8          https://example.com/react-native-portfolio  \n",
       "9                   https://example.com/ios-portfolio  \n",
       "10              https://example.com/android-portfolio  \n",
       "11       https://example.com/kotlin-android-portfolio  \n",
       "12           https://example.com/android-tv-portfolio  \n",
       "13               https://example.com/ios-ar-portfolio  \n",
       "14              https://example.com/xamarin-portfolio  \n",
       "15       https://example.com/kotlin-backend-portfolio  \n",
       "16  https://example.com/typescript-frontend-portfolio  \n",
       "17        https://example.com/full-stack-js-portfolio  \n",
       "18            https://example.com/ml-python-portfolio  \n",
       "19               https://example.com/devops-portfolio  "
      ]
     },
     "execution_count": 9,
     "metadata": {},
     "output_type": "execute_result"
    }
   ],
   "source": [
    "import pandas as pd\n",
    "\n",
    "df=pd.read_csv(\"my_portfolio.csv\")\n",
    "df"
   ]
  },
  {
   "cell_type": "code",
   "execution_count": 12,
   "id": "16dc7115-b4a4-4445-b1eb-b0baf711b29c",
   "metadata": {},
   "outputs": [],
   "source": [
    "import uuid\n",
    "import chromadb\n",
    "\n",
    "client = chromadb.PersistentClient('vectorstore')\n",
    "collection = client.get_or_create_collection(name=\"portfolio\")\n",
    "\n",
    "if  not collection.count():\n",
    "    for _,row in df.iterrows():\n",
    "        collection.add(documents=row[\"Techstack\"],\n",
    "                      metadatas={\"links\":row[\"Links\"]},\n",
    "                      ids=[str(uuid.uuid4())])"
   ]
  },
  {
   "cell_type": "code",
   "execution_count": 16,
   "id": "e1418a60-cbf5-4314-b58b-3105f23551f3",
   "metadata": {},
   "outputs": [
    {
     "data": {
      "text/plain": [
       "[[{'links': 'https://example.com/ml-python-portfolio'},\n",
       "  {'links': 'https://example.com/magento-portfolio'}],\n",
       " [{'links': 'https://example.com/android-portfolio'},\n",
       "  {'links': 'https://example.com/magento-portfolio'}],\n",
       " [{'links': 'https://example.com/magento-portfolio'},\n",
       "  {'links': 'https://example.com/java-portfolio'}]]"
      ]
     },
     "execution_count": 16,
     "metadata": {},
     "output_type": "execute_result"
    }
   ],
   "source": [
    "links = collection.query(query_texts=job['skills'], n_results=2).get('metadatas', []) \n",
    "links"
   ]
  },
  {
   "cell_type": "code",
   "execution_count": 15,
   "id": "5089e496-3153-4f7b-878f-4b70e671638b",
   "metadata": {},
   "outputs": [
    {
     "data": {
      "text/plain": [
       "['Programming with at least one software programming language',\n",
       " 'Design or architecture (design patterns, reliability and scaling) of new and existing systems',\n",
       " 'Full software development life cycle, including coding standards, code reviews, source control management, build processes, testing, and operations']"
      ]
     },
     "execution_count": 15,
     "metadata": {},
     "output_type": "execute_result"
    }
   ],
   "source": [
    "job = json_res\n",
    "job['skills']"
   ]
  },
  {
   "cell_type": "code",
   "execution_count": 17,
   "id": "33979c6a-9bb4-4bfe-a0f4-af93818f069d",
   "metadata": {},
   "outputs": [
    {
     "name": "stdout",
     "output_type": "stream",
     "text": [
      "Subject: Expert Software Development Solutions for Cross Border Seller Programs\n",
      "\n",
      "Dear Hiring Manager,\n",
      "\n",
      "I came across the job description for a Software Dev Engineer II, Cross Border Seller Programs, and I was impressed by the scope of the project. As a Business Development Executive at AtliQ, an AI & Software Consulting company, I believe our expertise can fulfill your requirements and contribute to the success of your team.\n",
      "\n",
      "With 3+ years of experience in software development, our team possesses the necessary skills to design, architect, and develop new and existing systems, ensuring reliability and scalability. We have hands-on experience with the full software development life cycle, including coding standards, code reviews, source control management, build processes, testing, and operations. Our proficiency in programming languages, such as Python, Java, and others, enables us to tackle complex projects and deliver high-quality solutions.\n",
      "\n",
      "At AtliQ, we specialize in delivering scalable solutions, AI-driven platforms, and advanced software engineering tailored to client needs. Our portfolio showcases our expertise in various technologies, including:\n",
      "\n",
      "* Machine Learning and Python: https://example.com/ml-python-portfolio\n",
      "* Magento: https://example.com/magento-portfolio\n",
      "* Java: https://example.com/java-portfolio\n",
      "\n",
      "These examples demonstrate our ability to develop and implement complex software systems, which can be leveraged to build new tools, services, and distribution structures for Amazon's growing footprint.\n",
      "\n",
      "I would be delighted to discuss how AtliQ's expertise can support your team's goals and objectives. Please feel free to contact me to explore potential collaboration opportunities.\n",
      "\n",
      "Best regards,\n",
      "\n",
      "Mohan\n",
      "Business Development Executive\n",
      "AtliQ\n"
     ]
    }
   ],
   "source": [
    "prompt_email_generic = PromptTemplate.from_template(\n",
    "    \"\"\"\n",
    "    ### JOB DESCRIPTION:\n",
    "    {job_description}\n",
    "    \n",
    "    ### INSTRUCTION:\n",
    "    You are Mohan, a Business Development Executive at AtliQ. AtliQ is an AI & Software Consulting company dedicated to \n",
    "    facilitating the seamless integration of business processes through automated tools. \n",
    "    We specialize in delivering scalable solutions, AI-driven platforms, and advanced software engineering tailored \n",
    "    to client needs. \n",
    "    Your job is to write a cold email to the concerned person regarding the job mentioned above, \n",
    "    describing how AtliQ’s expertise can fulfill their requirements. \n",
    "    \n",
    "    Also, add the most relevant ones from the following links to showcase AtliQ’s portfolio: {link_list}\n",
    "    \n",
    "    Remember you are Mohan, BDE at AtliQ. \n",
    "    Do not provide a preamble. \n",
    "    \n",
    "    ### EMAIL (NO PREAMBLE):\n",
    "    \n",
    "    \"\"\"\n",
    ")\n",
    "\n",
    "chain_email_generic = prompt_email_generic | llm\n",
    "res = chain_email_generic.invoke({\"job_description\": str(job), \"link_list\": links})\n",
    "print(res.content)\n"
   ]
  },
  {
   "cell_type": "code",
   "execution_count": null,
   "id": "98980d60-3102-4c9f-8c46-fd331fdb12ae",
   "metadata": {},
   "outputs": [],
   "source": []
  }
 ],
 "metadata": {
  "kernelspec": {
   "display_name": "Python 3 (ipykernel)",
   "language": "python",
   "name": "python3"
  },
  "language_info": {
   "codemirror_mode": {
    "name": "ipython",
    "version": 3
   },
   "file_extension": ".py",
   "mimetype": "text/x-python",
   "name": "python",
   "nbconvert_exporter": "python",
   "pygments_lexer": "ipython3",
   "version": "3.13.3"
  }
 },
 "nbformat": 4,
 "nbformat_minor": 5
}
